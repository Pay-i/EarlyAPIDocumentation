{
 "cells": [
  {
   "cell_type": "code",
   "execution_count": null,
   "metadata": {},
   "outputs": [],
   "source": [
    "%pip install -r requirements.txt"
   ]
  },
  {
   "cell_type": "markdown",
   "metadata": {},
   "source": [
    "Basic Anthropic Integration"
   ]
  },
  {
   "cell_type": "code",
   "execution_count": null,
   "metadata": {},
   "outputs": [],
   "source": [
    "import anthropic\n",
    "\n",
    "#TODO: Remove keys\n",
    "anthropic_key = \"YOUR_ANTHROPIC_KEY\"\n",
    "payi_api_key = \"YOUR_PAYI_API_KEY\"\n",
    "\n",
    "payi_base_url = \"https://apim-payi-qa-eastus.azure-api.net/api/v1/proxy/anthropic/\"\n",
    "payi_headers = {\n",
    "    \"xProxy-Forward-x-api-key\": anthropic_key,\n",
    "    \"xProxy-Forward-anthropic-version\": \"2023-06-01\"\n",
    "}\n",
    "client = anthropic.Anthropic(\n",
    "    base_url = payi_base_url,\n",
    "    auth_token = payi_api_key\n",
    ")"
   ]
  }
 ],
 "metadata": {
  "kernelspec": {
   "display_name": "Python 3",
   "language": "python",
   "name": "python3"
  },
  "language_info": {
   "codemirror_mode": {
    "name": "ipython",
    "version": 3
   },
   "file_extension": ".py",
   "mimetype": "text/x-python",
   "name": "python",
   "nbconvert_exporter": "python",
   "pygments_lexer": "ipython3",
   "version": "3.12.3"
  }
 },
 "nbformat": 4,
 "nbformat_minor": 2
}
